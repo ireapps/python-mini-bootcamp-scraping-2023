{
 "cells": [
  {
   "cell_type": "markdown",
   "id": "4766de9d-ae53-49c4-8e2b-0db0fc5c47f2",
   "metadata": {},
   "source": [
    "# S.D. WARN notices\n",
    "\n",
    "Goal: Scrape [the table of WARN notices in South Dakota](https://dlr.sd.gov/workforce_services/businesses/warn_notices.aspx) into a CSV (including links to PDFs, if available)."
   ]
  },
  {
   "cell_type": "code",
   "execution_count": null,
   "id": "0e989ec4-1533-426e-a3e7-bdc95f3694c2",
   "metadata": {},
   "outputs": [],
   "source": [
    "# generally want to import libraries at the top of your scripts or notebooks\n",
    "\n",
    "# part of the standard library - we'll use it to write the data into a CSV file\n",
    "# https://docs.python.org/3/library/csv.html\n",
    "import csv\n",
    "\n",
    "# now import the third-party libraries installed separately\n",
    "\n",
    "# for making HTTP requests\n",
    "# https://requests.readthedocs.io/\n",
    "import requests\n",
    "\n",
    "# for parsing HTML into Python data types\n",
    "# https://www.crummy.com/software/BeautifulSoup/bs4/doc/\n",
    "from bs4 import BeautifulSoup"
   ]
  },
  {
   "cell_type": "code",
   "execution_count": null,
   "id": "14bf47e6-701f-4de1-9cdd-ac7223c7543b",
   "metadata": {},
   "outputs": [],
   "source": [
    "# define a list of headers for the CSV\n",
    "headers = [\n",
    "    'company',\n",
    "    'city',\n",
    "    'date',\n",
    "    'num_employees',\n",
    "    'pdf_link'\n",
    "]"
   ]
  },
  {
   "cell_type": "code",
   "execution_count": null,
   "id": "448667de-af11-4ba5-b7ad-2a7cd641e5d1",
   "metadata": {},
   "outputs": [],
   "source": [
    "# fetch the page\n",
    "req = requests.get('https://dlr.sd.gov/workforce_services/businesses/warn_notices.aspx')\n",
    "\n",
    "# check for HTTP errors\n",
    "# https://requests.readthedocs.io/en/latest/api/#requests.Response.raise_for_status\n",
    "req.raise_for_status()"
   ]
  },
  {
   "cell_type": "code",
   "execution_count": null,
   "id": "17fcccf3-cc8e-424a-816d-b379b947cf04",
   "metadata": {},
   "outputs": [],
   "source": [
    "# take a quick peek at the HTML -- the .text attribute of the request\n",
    "req.text"
   ]
  },
  {
   "cell_type": "code",
   "execution_count": null,
   "id": "18f7ce8a-ee74-46f9-840d-ebb31e506ad0",
   "metadata": {},
   "outputs": [],
   "source": [
    "# turn that HTML into soup using the default HTML parser\n",
    "# https://www.crummy.com/software/BeautifulSoup/bs4/doc/#specifying-the-parser-to-use\n",
    "soup = BeautifulSoup(req.text, 'html.parser')"
   ]
  },
  {
   "cell_type": "code",
   "execution_count": null,
   "id": "df6ac86a-552a-4abf-a767-cdecc6ab3a0d",
   "metadata": {},
   "outputs": [],
   "source": [
    "type(soup)"
   ]
  },
  {
   "cell_type": "code",
   "execution_count": null,
   "id": "4be03637-20a1-4b4f-b377-3782559d67b3",
   "metadata": {},
   "outputs": [],
   "source": [
    "# find the table (it's the only one on the page - Ctrl+F for <table in the source code)\n",
    "# the find() method returns a single element, if it exists, or None if it doesn't\n",
    "# https://www.crummy.com/software/BeautifulSoup/bs4/doc/#find\n",
    "table = soup.find('table')"
   ]
  },
  {
   "cell_type": "code",
   "execution_count": null,
   "id": "c2dcd79d-6156-4eec-82ad-da1c0f73a301",
   "metadata": {},
   "outputs": [],
   "source": [
    "table"
   ]
  },
  {
   "cell_type": "code",
   "execution_count": null,
   "id": "40045a2e-60cc-41e6-88cd-e46491591368",
   "metadata": {},
   "outputs": [],
   "source": [
    "# find all of the the rows (the `tr` or \"table row\" element) in the table\n",
    "# the find_all() method returns a list of elements, if they exist, or an\n",
    "# empty list if they don't\n",
    "# https://www.crummy.com/software/BeautifulSoup/bs4/doc/#find-all\n",
    "rows = table.find_all('tr')"
   ]
  },
  {
   "cell_type": "code",
   "execution_count": null,
   "id": "bdb234f0-8c39-4e55-8e34-8ceab734806c",
   "metadata": {},
   "outputs": [],
   "source": [
    "rows"
   ]
  },
  {
   "cell_type": "code",
   "execution_count": null,
   "id": "6d8f0ad5-bd80-4c44-82da-fa2b61028826",
   "metadata": {},
   "outputs": [],
   "source": [
    "# count the number of rows -- the number of items in the\n",
    "# list returned by calling the find_all() method -- using the\n",
    "# built-in Python function len()\n",
    "# https://docs.python.org/3/library/functions.html#len\n",
    "len(rows)"
   ]
  },
  {
   "cell_type": "code",
   "execution_count": null,
   "id": "2a08bc2c-299c-4b5a-9045-9c99f9ae4506",
   "metadata": {},
   "outputs": [],
   "source": [
    "# start an empty list to collect the parsed data\n",
    "data = []\n",
    "\n",
    "# use a for loop to iterate over the rows and extract the data\n",
    "# https://docs.python.org/3/tutorial/controlflow.html#for-statements\n",
    "# https://realpython.com/python-for-loop/\n",
    "\n",
    "# also we're going to use list indexing to skip the first row of headers\n",
    "# in the table (we're supplying our own)\n",
    "# https://realpython.com/lessons/indexing-and-slicing/\n",
    "for row in rows[1:]:\n",
    "\n",
    "    # all of the code indented to this level will run for\n",
    "    # each item in the `rows` list, and we're using the\n",
    "    # variable `row` to refer to the current item in the iteration --\n",
    "    # in other words, this code will be applied to the first item,\n",
    "    # then to the second, etc. until the list is exhausted\n",
    "    # https://www.askpython.com/python/python-indentation\n",
    "\n",
    "    # within this row, find all of the cells\n",
    "    # (td, or \"table data\" elements)\n",
    "    cells = row.find_all('td')\n",
    "\n",
    "    # the company info is in the first [0] cell\n",
    "    # (counting in python starts at 0)\n",
    "    company_cell = cells[0]\n",
    "\n",
    "    # ... but we just want the text for the name, so: company_cell.text\n",
    "    # ... but we also want to do a little cleaning with a common\n",
    "    # trick to strip all extraneous whitespace from a string -- splitting and\n",
    "    # then rejoining it on a single space, so: ' '.join(company_cell.text.split())\n",
    "    # https://stackoverflow.com/a/1546251\n",
    "    company = ' '.join(company_cell.text.split())\n",
    "\n",
    "    # some but not all of these cells contain an anchor tag linking to the PDF, so\n",
    "    # we need to use an if statement to check for that here\n",
    "    # https://docs.python.org/3/tutorial/controlflow.html#if-statements\n",
    "    pdf_tag = company_cell.find('a')\n",
    "    \n",
    "    if pdf_tag:\n",
    "\n",
    "        # note the indentation level -- all code at this indentation level\n",
    "        # will fire only if the condition in the top line resolves to True\n",
    "        # (if calling the find() method to search for an anchor tag (`a`)\n",
    "        # returns an element rather than None\n",
    "        # https://www.freecodecamp.org/news/truthy-and-falsy-values-in-python/\n",
    "\n",
    "        # if that anchor tag exists, grab the relative link stored in its `href` attribute ...\n",
    "        # annoyingly, some but not all of these URLs have a leading slash, so the solution is\n",
    "        # to use the `lstrip()` (\"left strip\") function to remove any leading slashes from all\n",
    "        # of the links, then we'll make sure to separate the base URL with a slash when we build a\n",
    "        # fully qualified URL in the next step\n",
    "        # https://docs.python.org/3/library/stdtypes.html#str.lstrip\n",
    "        pdf_href = pdf_tag['href'].lstrip('/')\n",
    "\n",
    "        # use an f-string to build the fully qualified URL\n",
    "        # https://docs.python.org/3/tutorial/inputoutput.html#tut-f-strings\n",
    "        pdf_link = f'https://dlr.sd.gov/{pdf_href}'\n",
    "    # or if no a tag, set the `pdf_link` variable to an empty string\n",
    "    else:\n",
    "        pdf_link = ''\n",
    "    \n",
    "    # city is in the next [1] cell\n",
    "    city = ' '.join(cells[1].text.split())\n",
    "\n",
    "    # date is in the next [2] cell\n",
    "    date = ' '.join(cells[2].text.split())\n",
    "\n",
    "    # 💪 extra credit: figure out how to use the `datetime` module to validate\n",
    "    # this date string, then reformat it as a YYYY-MM-DD date string, using the methods\n",
    "    # strftime(), strptime() and isoformat()\n",
    "    # https://docs.python.org/3/library/datetime.html\n",
    "\n",
    "    # number of employees is the last [3] cell\n",
    "    num_employees = ' '.join(cells[3].text.split())\n",
    "\n",
    "    # build a list of data for this row, making sure to maintain the same order\n",
    "    # as the CSV headers defined above\n",
    "    row_data = [\n",
    "        company,\n",
    "        city,\n",
    "        date,\n",
    "        num_employees,\n",
    "        pdf_link\n",
    "    ]\n",
    "\n",
    "    # append this list of data to the tracking list above\n",
    "    # https://docs.python.org/3/tutorial/datastructures.html#more-on-lists\n",
    "    data.append(row_data)"
   ]
  },
  {
   "cell_type": "code",
   "execution_count": null,
   "id": "32b10627-a491-4f3f-ae4c-b9d3adb77cc9",
   "metadata": {},
   "outputs": [],
   "source": [
    "# take a quick peek at out our list of lists -- which conveniently is exactly\n",
    "# what the csv.writer object we're about to create is expecting\n",
    "# https://docs.python.org/3/library/csv.html#writer-objects\n",
    "data"
   ]
  },
  {
   "cell_type": "code",
   "execution_count": null,
   "id": "e370552c-21e1-4ed4-9a57-6b7a452f910d",
   "metadata": {},
   "outputs": [],
   "source": [
    "# https://docs.python.org/3/library/csv.html#examples\n",
    "# in a with block, open a file called 'warn-sd-data.csv' in\n",
    "# write mode 'w', specifying a blank newline to account for\n",
    "# how PCs render newline characters, specifying utf-8 encoding,\n",
    "# referring to this open file object as the variable \"outfile\" (arbitrary),\n",
    "# open a CSV file to write your data to\n",
    "with open('warn-sd-data.csv', 'w', newline='', encoding='utf-8') as outfile:\n",
    "    \n",
    "    # create a csv.writer object attached to the file handler\n",
    "    writer = csv.writer(outfile)\n",
    "\n",
    "    # write the first row into your CSV file -- the list of headers defined above\n",
    "    # the writerow() method expects a single list\n",
    "    writer.writerow(headers)\n",
    "\n",
    "    # write the rows of parsed data to file, which are stored as a list of lists in\n",
    "    # the `data` variable above\n",
    "    # the writerows() method (plural!) expects a list of lists\n",
    "    writer.writerows(data)"
   ]
  }
 ],
 "metadata": {
  "kernelspec": {
   "display_name": "Python 3 (ipykernel)",
   "language": "python",
   "name": "python3"
  },
  "language_info": {
   "codemirror_mode": {
    "name": "ipython",
    "version": 3
   },
   "file_extension": ".py",
   "mimetype": "text/x-python",
   "name": "python",
   "nbconvert_exporter": "python",
   "pygments_lexer": "ipython3",
   "version": "3.11.6"
  }
 },
 "nbformat": 4,
 "nbformat_minor": 5
}
